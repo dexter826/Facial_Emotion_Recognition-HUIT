{
  "cells": [
    {
      "cell_type": "markdown",
      "metadata": {},
      "source": [
        "# Huấn luyện Phân loại Giới tính với Dataset từ Kaggle\n",
        "Notebook này huấn luyện mô hình CNN để phân loại giới tính sử dụng dataset Gender Classification đã tải về local.\n",
        "\n",
        "**Nguồn Dataset**: https://www.kaggle.com/datasets/cashutosh/gender-classification-dataset"
      ]
    },
    {
      "cell_type": "code",
      "execution_count": null,
      "metadata": {},
      "outputs": [],
      "source": [
        "# Import các thư viện cần thiết\n",
        "import os\n",
        "import numpy as np\n",
        "import matplotlib.pyplot as plt\n",
        "import tensorflow as tf\n",
        "from tensorflow.keras.preprocessing.image import ImageDataGenerator\n",
        "from tensorflow.keras.models import Sequential\n",
        "from tensorflow.keras.layers import Conv2D, MaxPooling2D, Flatten, Dense, Dropout\n",
        "from tensorflow.keras.optimizers import Adam\n",
        "from tensorflow.keras.callbacks import EarlyStopping, ReduceLROnPlateau"
      ]
    },
    {
      "cell_type": "code",
      "execution_count": null,
      "metadata": {},
      "outputs": [],
      "source": [
        "# Khám phá cấu trúc dataset\n",
        "data_dir = './dataset/gender'\n",
        "print(\"Cấu trúc dataset:\")\n",
        "for root, dirs, files in os.walk(data_dir):\n",
        "    level = root.replace(data_dir, '').count(os.sep)\n",
        "    indent = ' ' * 2 * level\n",
        "    print(f\"{indent}{os.path.basename(root)}/\")\n",
        "    subindent = ' ' * 2 * (level + 1)\n",
        "    for file in files[:3]:  # Chỉ hiển thị 3 file đầu tiên\n",
        "        print(f\"{subindent}{file}\")\n",
        "    if len(files) > 3:\n",
        "        print(f\"{subindent}... và {len(files) - 3} file khác\")"
      ]
    },
    {
      "cell_type": "code",
      "execution_count": null,
      "metadata": {},
      "outputs": [],
      "source": [
        "# Định nghĩa các lớp giới tính (dựa trên cấu trúc dataset thực tế)\n",
        "# Dataset sẽ tự động phát hiện các lớp từ tên thư mục\n",
        "gender_labels = ['Nam', 'Nữ']  # Nhãn chuẩn để hiển thị\n",
        "num_classes = 2\n",
        "\n",
        "print(f\"Huấn luyện với {num_classes} lớp giới tính: {gender_labels}\")\n",
        "print(\"Dataset sẽ tự động phát hiện cấu trúc thư mục cho tên lớp\")"
      ]
    },
    {
      "cell_type": "code",
      "execution_count": null,
      "metadata": {},
      "outputs": [],
      "source": [
        "# Tiền xử lý và tăng cường dữ liệu (giảm augmentation để training nhanh hơn)\n",
        "train_datagen = ImageDataGenerator(\n",
        "    rescale=1.0/255,\n",
        "    rotation_range=10,  # Giảm từ 20 xuống 10\n",
        "    width_shift_range=0.1,  # Giảm từ 0.2 xuống 0.1\n",
        "    height_shift_range=0.1,  # Giảm từ 0.2 xuống 0.1\n",
        "    horizontal_flip=True,\n",
        "    fill_mode='nearest'\n",
        ")\n",
        "\n",
        "# Generator cho dữ liệu validation (chỉ rescaling)\n",
        "validation_datagen = ImageDataGenerator(rescale=1.0/255)"
      ]
    },
    {
      "cell_type": "code",
      "execution_count": null,
      "metadata": {},
      "outputs": [],
      "source": [
        "# Tải dữ liệu training từ thư mục Training\n",
        "# Tăng batch_size và giảm kích thước ảnh để training nhanh hơn\n",
        "train_generator = train_datagen.flow_from_directory(\n",
        "    directory=\"./dataset/gender/Training\",\n",
        "    target_size=(64, 64),  # Giảm từ 150x150 xuống 64x64\n",
        "    batch_size=64,  # Tăng từ 32 lên 64\n",
        "    class_mode='categorical',\n",
        "    shuffle=True\n",
        ")\n",
        "\n",
        "# Tải dữ liệu validation từ thư mục Validation\n",
        "validation_generator = validation_datagen.flow_from_directory(\n",
        "    directory=\"./dataset/gender/Validation\",\n",
        "    target_size=(64, 64),  # Giảm từ 150x150 xuống 64x64\n",
        "    batch_size=64,  # Tăng từ 32 lên 64\n",
        "    class_mode='categorical',\n",
        "    shuffle=False\n",
        ")\n",
        "\n",
        "# In thông tin các lớp được phát hiện\n",
        "print(f\"Các lớp được phát hiện: {train_generator.class_indices}\")\n",
        "print(f\"Số lượng mẫu training: {train_generator.n}\")\n",
        "print(f\"Số lượng mẫu validation: {validation_generator.n}\")"
      ]
    },
    {
      "cell_type": "code",
      "execution_count": null,
      "metadata": {},
      "outputs": [],
      "source": [
        "# Xây dựng mô hình CNN cho phân loại giới tính (tối ưu hóa cho tốc độ)\n",
        "model = Sequential()\n",
        "\n",
        "# Các lớp Convolutional (giảm số lớp để training nhanh hơn)\n",
        "model.add(Conv2D(32, (3, 3), activation='relu', input_shape=(64, 64, 3)))\n",
        "model.add(MaxPooling2D(2, 2))\n",
        "\n",
        "model.add(Conv2D(64, (3, 3), activation='relu'))\n",
        "model.add(MaxPooling2D(2, 2))\n",
        "\n",
        "model.add(Conv2D(128, (3, 3), activation='relu'))\n",
        "model.add(MaxPooling2D(2, 2))\n",
        "\n",
        "# Flatten\n",
        "model.add(Flatten())\n",
        "\n",
        "# Các lớp fully-connected\n",
        "model.add(Dense(64, activation='relu'))  # Giảm từ 128 xuống 64\n",
        "model.add(Dropout(0.3))  # Tăng từ 0.25 lên 0.3\n",
        "\n",
        "# Lớp output (2 lớp cho giới tính)\n",
        "model.add(Dense(2, activation='softmax'))\n",
        "\n",
        "# Hiển thị kiến trúc mô hình\n",
        "model.summary()"
      ]
    },
    {
      "cell_type": "code",
      "execution_count": null,
      "metadata": {},
      "outputs": [],
      "source": [
        "# Compile mô hình với optimizer Adam (thường nhanh hơn RMSprop)\n",
        "model.compile(\n",
        "    optimizer=Adam(learning_rate=0.001),\n",
        "    loss='categorical_crossentropy',\n",
        "    metrics=['accuracy']\n",
        ")\n",
        "\n",
        "# Callbacks để tối ưu hóa training\n",
        "early_stopping = EarlyStopping(\n",
        "    patience=3, \n",
        "    monitor='val_loss', \n",
        "    restore_best_weights=True\n",
        ")\n",
        "\n",
        "reduce_lr = ReduceLROnPlateau(\n",
        "    monitor='val_loss',\n",
        "    factor=0.2,\n",
        "    patience=2,\n",
        "    min_lr=0.0001\n",
        ")"
      ]
    },
    {
      "cell_type": "code",
      "execution_count": null,
      "metadata": {},
      "outputs": [],
      "source": [
        "# Huấn luyện mô hình (giảm epochs để training nhanh hơn)\n",
        "print(\"Bắt đầu huấn luyện mô hình...\")\n",
        "history = model.fit(\n",
        "    train_generator,\n",
        "    steps_per_epoch=min(50, train_generator.n // train_generator.batch_size),  # Giới hạn steps\n",
        "    epochs=10,  # Giảm từ 20 xuống 10\n",
        "    validation_data=validation_generator,\n",
        "    validation_steps=min(25, validation_generator.n // validation_generator.batch_size),  # Giới hạn validation steps\n",
        "    callbacks=[early_stopping, reduce_lr],\n",
        "    verbose=1\n",
        ")\n",
        "print(\"Hoàn thành huấn luyện!\")"
      ]
    },
    {
      "cell_type": "code",
      "execution_count": null,
      "metadata": {},
      "outputs": [],
      "source": [
        "# Đánh giá mô hình\n",
        "score = model.evaluate(validation_generator, verbose=0)\n",
        "print(f'Loss trên tập test: {score[0]:.4f}')\n",
        "print(f'Độ chính xác trên tập test: {score[1]:.4f}')"
      ]
    },
    {
      "cell_type": "code",
      "execution_count": null,
      "metadata": {},
      "outputs": [],
      "source": [
        "# Vẽ biểu đồ lịch sử huấn luyện\n",
        "plt.figure(figsize=(12, 4))\n",
        "\n",
        "# Vẽ biểu đồ độ chính xác\n",
        "plt.subplot(1, 2, 1)\n",
        "plt.plot(history.history['accuracy'], label='Độ chính xác Training')\n",
        "plt.plot(history.history['val_accuracy'], label='Độ chính xác Validation')\n",
        "plt.title('Độ chính xác của Mô hình')\n",
        "plt.ylabel('Độ chính xác')\n",
        "plt.xlabel('Epoch')\n",
        "plt.legend()\n",
        "\n",
        "# Vẽ biểu đồ loss\n",
        "plt.subplot(1, 2, 2)\n",
        "plt.plot(history.history['loss'], 'r', label='Loss Training')\n",
        "plt.plot(history.history['val_loss'], label='Loss Validation')\n",
        "plt.title('Loss của Mô hình')\n",
        "plt.ylabel('Loss')\n",
        "plt.xlabel('Epoch')\n",
        "plt.legend()\n",
        "\n",
        "plt.tight_layout()\n",
        "plt.show()"
      ]
    },
    {
      "cell_type": "code",
      "execution_count": null,
      "metadata": {},
      "outputs": [],
      "source": [
        "# Lưu mô hình đã huấn luyện\n",
        "model.save('Gender1.h5')  # Đổi tên từ Gender2 thành Gender1 để nhất quán\n",
        "print(\"Mô hình đã được lưu với tên 'Gender1.h5'\")"
      ]
    },
    {
      "cell_type": "code",
      "execution_count": null,
      "metadata": {},
      "outputs": [],
      "source": [
        "# Kiểm tra mô hình với ảnh mẫu\n",
        "from tensorflow.keras.models import load_model\n",
        "from tensorflow.keras.utils import load_img, img_to_array\n",
        "import numpy as np\n",
        "\n",
        "# Tải mô hình đã lưu\n",
        "model_CNN = load_model('Gender1.h5')  # Cập nhật tên file\n",
        "\n",
        "# Định nghĩa nhãn dự đoán\n",
        "predict_labels = ['Nam', 'Nữ']\n",
        "\n",
        "# Hàm dự đoán giới tính từ đường dẫn ảnh\n",
        "def predict_gender(image_path):\n",
        "    try:\n",
        "        # Tải và tiền xử lý ảnh\n",
        "        img = load_img(image_path, target_size=(64, 64))  # Cập nhật kích thước\n",
        "        plt.figure(figsize=(6, 6))\n",
        "        plt.imshow(img)\n",
        "        plt.title('Ảnh đầu vào')\n",
        "        plt.axis('off')\n",
        "        plt.show()\n",
        "        \n",
        "        # Chuyển đổi thành array và chuẩn hóa\n",
        "        img_array = img_to_array(img)\n",
        "        img_array = img_array.reshape(1, 64, 64, 3)  # Cập nhật kích thước\n",
        "        img_array = img_array.astype('float32') / 255.0\n",
        "        \n",
        "        # Thực hiện dự đoán\n",
        "        prediction = model_CNN.predict(img_array)\n",
        "        predicted_class = np.argmax(prediction, axis=-1)[0]\n",
        "        confidence = np.max(prediction)\n",
        "        \n",
        "        print(f\"Giới tính dự đoán: {predict_labels[predicted_class]}\")\n",
        "        print(f\"Độ tin cậy: {confidence:.2%}\")\n",
        "        \n",
        "        return predict_labels[predicted_class], confidence\n",
        "    except Exception as e:\n",
        "        print(f\"Lỗi khi xử lý ảnh: {e}\")\n",
        "        return None, None\n",
        "\n",
        "# Ví dụ sử dụng (bỏ comment và cung cấp đường dẫn ảnh hợp lệ)\n",
        "# predict_gender('./dataset/gender/Training/female/sample_image.jpg')"
      ]
    }
  ],
  "metadata": {
    "kernelspec": {
      "display_name": "Python 3",
      "language": "python",
      "name": "python3"
    },
    "language_info": {
      "codemirror_mode": {
        "name": "ipython",
        "version": 3
      },
      "file_extension": ".py",
      "mimetype": "text/x-python",
      "name": "python",
      "nbconvert_exporter": "python",
      "pygments_lexer": "ipython3",
      "version": "3.11.9"
    }
  },
  "nbformat": 4,
  "nbformat_minor": 4
}
